{
 "cells": [
  {
   "cell_type": "markdown",
   "id": "3113eb04-fa2e-4708-91a1-ee07816a53ed",
   "metadata": {},
   "source": [
    "#  Poject working"
   ]
  },
  {
   "cell_type": "code",
   "execution_count": 2,
   "id": "2640d01b-378b-452e-b5ec-31ca8720c5f8",
   "metadata": {},
   "outputs": [],
   "source": [
    "import numpy as np\n",
    "import pandas as pd\n",
    "import matplotlib.pyplot as plt\n",
    "import seaborn as sns\n",
    "import mysql.connector\n",
    "\n",
    "db= mysql.connector.connect(host=\"localhost\",\n",
    "                            username=\"root\",\n",
    "                            password=\"123456\",\n",
    "                            database= \"ecommerce\")\n",
    "cur=db.cursor()\n",
    "                            "
   ]
  },
  {
   "cell_type": "markdown",
   "id": "8dbb0be9-d32d-4b3b-af30-aca5f19ba4b9",
   "metadata": {},
   "source": [
    "# 1. List all unique cities where customers are located."
   ]
  },
  {
   "cell_type": "code",
   "execution_count": 2,
   "id": "165ea90d-cd3f-44c8-a1fe-35fd58ac85f0",
   "metadata": {},
   "outputs": [
    {
     "data": {
      "text/html": [
       "<div>\n",
       "<style scoped>\n",
       "    .dataframe tbody tr th:only-of-type {\n",
       "        vertical-align: middle;\n",
       "    }\n",
       "\n",
       "    .dataframe tbody tr th {\n",
       "        vertical-align: top;\n",
       "    }\n",
       "\n",
       "    .dataframe thead th {\n",
       "        text-align: right;\n",
       "    }\n",
       "</style>\n",
       "<table border=\"1\" class=\"dataframe\">\n",
       "  <thead>\n",
       "    <tr style=\"text-align: right;\">\n",
       "      <th></th>\n",
       "      <th>0</th>\n",
       "    </tr>\n",
       "  </thead>\n",
       "  <tbody>\n",
       "    <tr>\n",
       "      <th>0</th>\n",
       "      <td>franca</td>\n",
       "    </tr>\n",
       "    <tr>\n",
       "      <th>1</th>\n",
       "      <td>sao bernardo do campo</td>\n",
       "    </tr>\n",
       "    <tr>\n",
       "      <th>2</th>\n",
       "      <td>sao paulo</td>\n",
       "    </tr>\n",
       "    <tr>\n",
       "      <th>3</th>\n",
       "      <td>mogi das cruzes</td>\n",
       "    </tr>\n",
       "    <tr>\n",
       "      <th>4</th>\n",
       "      <td>campinas</td>\n",
       "    </tr>\n",
       "  </tbody>\n",
       "</table>\n",
       "</div>"
      ],
      "text/plain": [
       "                       0\n",
       "0                 franca\n",
       "1  sao bernardo do campo\n",
       "2              sao paulo\n",
       "3        mogi das cruzes\n",
       "4               campinas"
      ]
     },
     "execution_count": 2,
     "metadata": {},
     "output_type": "execute_result"
    }
   ],
   "source": [
    "query= \"\"\"select distinct customer_city from customers\"\"\"\n",
    "\n",
    "cur.execute(query)\n",
    "data=cur.fetchall()\n",
    "# data\n",
    "df = pd.DataFrame(data)\n",
    "df.head()"
   ]
  },
  {
   "cell_type": "markdown",
   "id": "2e8860c3-00c5-4eca-b44b-37e2e5b1837d",
   "metadata": {},
   "source": [
    "# 2. Count the number of orders placed in 2017."
   ]
  },
  {
   "cell_type": "code",
   "execution_count": 3,
   "id": "2e80da9b-69b0-4516-9d6a-38b9e3c08443",
   "metadata": {},
   "outputs": [
    {
     "data": {
      "text/plain": [
       "[(108022,)]"
      ]
     },
     "execution_count": 3,
     "metadata": {},
     "output_type": "execute_result"
    }
   ],
   "source": [
    "query2=\"\"\"select count(order_id) from orders where year(order_purchase_timestamp)=2018\"\"\"\n",
    "cur.execute(query2)\n",
    "data=cur.fetchall()\n",
    "data"
   ]
  },
  {
   "cell_type": "markdown",
   "id": "dd909bcd-be0c-49b1-8c3a-12fd5fc8b2d9",
   "metadata": {},
   "source": [
    "# 3. Find the total sales per category."
   ]
  },
  {
   "cell_type": "code",
   "execution_count": 4,
   "id": "efe48531-b713-4f2f-b410-11e4af53611a",
   "metadata": {},
   "outputs": [
    {
     "data": {
      "text/html": [
       "<div>\n",
       "<style scoped>\n",
       "    .dataframe tbody tr th:only-of-type {\n",
       "        vertical-align: middle;\n",
       "    }\n",
       "\n",
       "    .dataframe tbody tr th {\n",
       "        vertical-align: top;\n",
       "    }\n",
       "\n",
       "    .dataframe thead th {\n",
       "        text-align: right;\n",
       "    }\n",
       "</style>\n",
       "<table border=\"1\" class=\"dataframe\">\n",
       "  <thead>\n",
       "    <tr style=\"text-align: right;\">\n",
       "      <th></th>\n",
       "      <th>product_category</th>\n",
       "      <th>sales</th>\n",
       "    </tr>\n",
       "  </thead>\n",
       "  <tbody>\n",
       "    <tr>\n",
       "      <th>0</th>\n",
       "      <td>perfumery</td>\n",
       "      <td>1013477.32</td>\n",
       "    </tr>\n",
       "    <tr>\n",
       "      <th>1</th>\n",
       "      <td>Furniture Decoration</td>\n",
       "      <td>2860352.78</td>\n",
       "    </tr>\n",
       "    <tr>\n",
       "      <th>2</th>\n",
       "      <td>telephony</td>\n",
       "      <td>973764.10</td>\n",
       "    </tr>\n",
       "    <tr>\n",
       "      <th>3</th>\n",
       "      <td>Fashion Bags and Accessories</td>\n",
       "      <td>436316.56</td>\n",
       "    </tr>\n",
       "    <tr>\n",
       "      <th>4</th>\n",
       "      <td>bed table bath</td>\n",
       "      <td>3425107.34</td>\n",
       "    </tr>\n",
       "  </tbody>\n",
       "</table>\n",
       "</div>"
      ],
      "text/plain": [
       "               product_category       sales\n",
       "0                     perfumery  1013477.32\n",
       "1          Furniture Decoration  2860352.78\n",
       "2                     telephony   973764.10\n",
       "3  Fashion Bags and Accessories   436316.56\n",
       "4                bed table bath  3425107.34"
      ]
     },
     "execution_count": 4,
     "metadata": {},
     "output_type": "execute_result"
    }
   ],
   "source": [
    "query3=\"\"\"select products.product_category, \n",
    "round(sum(payments.payment_value),2) sales \n",
    "from products join order_items\n",
    "on products.product_id = order_items.product_id\n",
    "join payments\n",
    "on payments.order_id= order_items.order_id\n",
    "group by product_category\"\"\"\n",
    "\n",
    "cur.execute(query3)\n",
    "data=cur.fetchall()\n",
    "# data\n",
    "df=pd.DataFrame(data, columns=[\"product_category\", \"sales\"])\n",
    "df.head()"
   ]
  },
  {
   "cell_type": "markdown",
   "id": "43475905-40f9-4f37-95d6-0dfe3561194f",
   "metadata": {},
   "source": [
    " # 4. Calculate the percentage of orders that were paid in installments."
   ]
  },
  {
   "cell_type": "code",
   "execution_count": 5,
   "id": "9c08710b-fc77-4f17-b4d6-1bd17848ac7e",
   "metadata": {},
   "outputs": [
    {
     "data": {
      "text/plain": [
       "[(Decimal('99.9981'),)]"
      ]
     },
     "execution_count": 5,
     "metadata": {},
     "output_type": "execute_result"
    }
   ],
   "source": [
    "query4=\"\"\"select sum(case when payment_installments >= 1 then 1 else 0 end)/count(*)*100 from payments;\"\"\"\n",
    "\n",
    "cur.execute(query4)\n",
    "data=cur.fetchall()\n",
    "data"
   ]
  },
  {
   "cell_type": "markdown",
   "id": "1b9a9df0-0ac3-4117-b9f4-44d047a73a85",
   "metadata": {},
   "source": [
    "# 5. Count the number of customers from each state. "
   ]
  },
  {
   "cell_type": "code",
   "execution_count": 6,
   "id": "f0f4e2d3-7cea-46be-886c-8fd603535c6a",
   "metadata": {},
   "outputs": [
    {
     "data": {
      "text/html": [
       "<div>\n",
       "<style scoped>\n",
       "    .dataframe tbody tr th:only-of-type {\n",
       "        vertical-align: middle;\n",
       "    }\n",
       "\n",
       "    .dataframe tbody tr th {\n",
       "        vertical-align: top;\n",
       "    }\n",
       "\n",
       "    .dataframe thead th {\n",
       "        text-align: right;\n",
       "    }\n",
       "</style>\n",
       "<table border=\"1\" class=\"dataframe\">\n",
       "  <thead>\n",
       "    <tr style=\"text-align: right;\">\n",
       "      <th></th>\n",
       "      <th>States</th>\n",
       "      <th>Customers_Count</th>\n",
       "    </tr>\n",
       "  </thead>\n",
       "  <tbody>\n",
       "    <tr>\n",
       "      <th>0</th>\n",
       "      <td>SP</td>\n",
       "      <td>83492</td>\n",
       "    </tr>\n",
       "    <tr>\n",
       "      <th>1</th>\n",
       "      <td>SC</td>\n",
       "      <td>7274</td>\n",
       "    </tr>\n",
       "    <tr>\n",
       "      <th>2</th>\n",
       "      <td>MG</td>\n",
       "      <td>23270</td>\n",
       "    </tr>\n",
       "    <tr>\n",
       "      <th>3</th>\n",
       "      <td>PR</td>\n",
       "      <td>10090</td>\n",
       "    </tr>\n",
       "    <tr>\n",
       "      <th>4</th>\n",
       "      <td>RJ</td>\n",
       "      <td>25704</td>\n",
       "    </tr>\n",
       "  </tbody>\n",
       "</table>\n",
       "</div>"
      ],
      "text/plain": [
       "  States  Customers_Count\n",
       "0     SP            83492\n",
       "1     SC             7274\n",
       "2     MG            23270\n",
       "3     PR            10090\n",
       "4     RJ            25704"
      ]
     },
     "execution_count": 6,
     "metadata": {},
     "output_type": "execute_result"
    }
   ],
   "source": [
    "query5=\"\"\"select customer_state, count(customer_id)  from customers group by customer_state\"\"\"\n",
    "\n",
    "cur.execute(query5)\n",
    "data = cur.fetchall()\n",
    "# data\n",
    "df=pd.DataFrame(data, columns=[\"States\", \"Customers_Count\"])\n",
    "df.head()"
   ]
  },
  {
   "cell_type": "code",
   "execution_count": 7,
   "id": "d009b5d9-d32d-4ea3-a61b-c21794a708b2",
   "metadata": {},
   "outputs": [
    {
     "data": {
      "image/png": "[encoded data removed]",
      "text/plain": [
       "<Figure size 640x480 with 1 Axes>"
      ]
     },
     "metadata": {},
     "output_type": "display_data"
    }
   ],
   "source": [
    "# Graph\n",
    "df= df.sort_values(by=\"Customers_Count\", ascending=False)\n",
    "plt.bar(df[\"States\"],df[\"Customers_Count\"])\n",
    "plt.xticks(rotation=90)\n",
    "plt.xlabel(\"States\")\n",
    "plt.ylabel(\"Customers_Count\")\n",
    "plt.title(\"Count of custemers States\")\n",
    "plt.show()\n"
   ]
  },
  {
   "cell_type": "markdown",
   "id": "3d8bfe11-5b47-422b-ae84-82c8c4427869",
   "metadata": {},
   "source": [
    "# Intermediate Queries"
   ]
  },
  {
   "cell_type": "markdown",
   "id": "eba9d37d-b7f7-4fa7-be93-fed3fd522a0f",
   "metadata": {},
   "source": [
    "# 1. Calculate the number of orders per month in 2018."
   ]
  },
  {
   "cell_type": "code",
   "execution_count": 8,
   "id": "6ab489a2-0c8e-4c25-b99d-5b1878cb09aa",
   "metadata": {},
   "outputs": [
    {
     "data": {
      "text/html": [
       "<div>\n",
       "<style scoped>\n",
       "    .dataframe tbody tr th:only-of-type {\n",
       "        vertical-align: middle;\n",
       "    }\n",
       "\n",
       "    .dataframe tbody tr th {\n",
       "        vertical-align: top;\n",
       "    }\n",
       "\n",
       "    .dataframe thead th {\n",
       "        text-align: right;\n",
       "    }\n",
       "</style>\n",
       "<table border=\"1\" class=\"dataframe\">\n",
       "  <thead>\n",
       "    <tr style=\"text-align: right;\">\n",
       "      <th></th>\n",
       "      <th>Months</th>\n",
       "      <th>Order_Count</th>\n",
       "    </tr>\n",
       "  </thead>\n",
       "  <tbody>\n",
       "    <tr>\n",
       "      <th>0</th>\n",
       "      <td>July</td>\n",
       "      <td>12584</td>\n",
       "    </tr>\n",
       "    <tr>\n",
       "      <th>1</th>\n",
       "      <td>August</td>\n",
       "      <td>13024</td>\n",
       "    </tr>\n",
       "    <tr>\n",
       "      <th>2</th>\n",
       "      <td>February</td>\n",
       "      <td>13456</td>\n",
       "    </tr>\n",
       "    <tr>\n",
       "      <th>3</th>\n",
       "      <td>June</td>\n",
       "      <td>12334</td>\n",
       "    </tr>\n",
       "    <tr>\n",
       "      <th>4</th>\n",
       "      <td>March</td>\n",
       "      <td>14422</td>\n",
       "    </tr>\n",
       "    <tr>\n",
       "      <th>5</th>\n",
       "      <td>January</td>\n",
       "      <td>14538</td>\n",
       "    </tr>\n",
       "    <tr>\n",
       "      <th>6</th>\n",
       "      <td>May</td>\n",
       "      <td>13746</td>\n",
       "    </tr>\n",
       "    <tr>\n",
       "      <th>7</th>\n",
       "      <td>April</td>\n",
       "      <td>13878</td>\n",
       "    </tr>\n",
       "    <tr>\n",
       "      <th>8</th>\n",
       "      <td>September</td>\n",
       "      <td>32</td>\n",
       "    </tr>\n",
       "    <tr>\n",
       "      <th>9</th>\n",
       "      <td>October</td>\n",
       "      <td>8</td>\n",
       "    </tr>\n",
       "  </tbody>\n",
       "</table>\n",
       "</div>"
      ],
      "text/plain": [
       "      Months  Order_Count\n",
       "0       July        12584\n",
       "1     August        13024\n",
       "2   February        13456\n",
       "3       June        12334\n",
       "4      March        14422\n",
       "5    January        14538\n",
       "6        May        13746\n",
       "7      April        13878\n",
       "8  September           32\n",
       "9    October            8"
      ]
     },
     "execution_count": 8,
     "metadata": {},
     "output_type": "execute_result"
    }
   ],
   "source": [
    "Query1=\"\"\"select monthname(order_purchase_timestamp)Months,count(order_id) as Order_Count from orders where year(order_purchase_timestamp)=2018 group by Months;\"\"\"\n",
    "\n",
    "cur.execute(Query1)\n",
    "data = cur.fetchall()\n",
    "# data\n",
    "df=pd.DataFrame(data, columns=[\"Months\", \"Order_Count\"])\n",
    "df"
   ]
  },
  {
   "cell_type": "code",
   "execution_count": 9,
   "id": "5da3f6b2-b2f7-4623-9fee-1d281f61dfc1",
   "metadata": {},
   "outputs": [
    {
     "data": {
      "image/png": "[encoded data removed]",
      "text/plain": [
       "<Figure size 640x480 with 1 Axes>"
      ]
     },
     "metadata": {},
     "output_type": "display_data"
    }
   ],
   "source": [
    "# plot the graph\n",
    "Mon=[\"Jan\",\"Feb\", \"Mar\", \"Apr\", \"May\", \"Jun\",\"Jul\", \"Aug\", \"Sep\", \"Oct\", \"Nov\", \"Dec\"]\n",
    "\n",
    "plt.bar(df[\"Months\"],df[\"Order_Count\"])\n",
    "plt.xticks(rotation=90)\n",
    "plt.xlabel(\"Months\")\n",
    "plt.ylabel(\"Order_Count\")\n",
    "plt.title(\"Month Wise count\")\n",
    "\n",
    "plt.show()\n"
   ]
  },
  {
   "cell_type": "code",
   "execution_count": 10,
   "id": "19fb737c-aea8-41dd-80e3-9a2f8fff4514",
   "metadata": {},
   "outputs": [],
   "source": [
    "# ax=sns.barplot(x=\"Months\",y=\"Order_Count\",order=Mon,data=df, hue=df[\"Months\"], paletter=\"viridis\")\n",
    "# plt.xticks(rotation=90)\n",
    "# ax.bar_lable(ax.containers[0])\n",
    "# plt.xlabel(\"Months\")\n",
    "# plt.ylabel(\"Order_Count\")\n",
    "# plt.title(\"Count of orders by Months is 2018\")\n",
    "# plt.show()"
   ]
  },
  {
   "cell_type": "markdown",
   "id": "c82aeb47-0908-4868-8970-6cf64c272668",
   "metadata": {},
   "source": [
    "# 2. Find the average number of products per order, grouped by customer city."
   ]
  },
  {
   "cell_type": "code",
   "execution_count": 11,
   "id": "469bcac2-5d9b-4b6d-ae35-1b513c98d884",
   "metadata": {},
   "outputs": [
    {
     "data": {
      "text/html": [
       "<div>\n",
       "<style scoped>\n",
       "    .dataframe tbody tr th:only-of-type {\n",
       "        vertical-align: middle;\n",
       "    }\n",
       "\n",
       "    .dataframe tbody tr th {\n",
       "        vertical-align: top;\n",
       "    }\n",
       "\n",
       "    .dataframe thead th {\n",
       "        text-align: right;\n",
       "    }\n",
       "</style>\n",
       "<table border=\"1\" class=\"dataframe\">\n",
       "  <thead>\n",
       "    <tr style=\"text-align: right;\">\n",
       "      <th></th>\n",
       "      <th>City</th>\n",
       "      <th>Avg_Count_Orders</th>\n",
       "    </tr>\n",
       "  </thead>\n",
       "  <tbody>\n",
       "    <tr>\n",
       "      <th>0</th>\n",
       "      <td>treze tilias</td>\n",
       "      <td>2.55</td>\n",
       "    </tr>\n",
       "    <tr>\n",
       "      <th>1</th>\n",
       "      <td>indaial</td>\n",
       "      <td>2.23</td>\n",
       "    </tr>\n",
       "    <tr>\n",
       "      <th>2</th>\n",
       "      <td>sao jose dos campos</td>\n",
       "      <td>2.28</td>\n",
       "    </tr>\n",
       "    <tr>\n",
       "      <th>3</th>\n",
       "      <td>sao paulo</td>\n",
       "      <td>2.31</td>\n",
       "    </tr>\n",
       "    <tr>\n",
       "      <th>4</th>\n",
       "      <td>porto alegre</td>\n",
       "      <td>2.35</td>\n",
       "    </tr>\n",
       "    <tr>\n",
       "      <th>...</th>\n",
       "      <td>...</td>\n",
       "      <td>...</td>\n",
       "    </tr>\n",
       "    <tr>\n",
       "      <th>4105</th>\n",
       "      <td>buriti</td>\n",
       "      <td>6.00</td>\n",
       "    </tr>\n",
       "    <tr>\n",
       "      <th>4106</th>\n",
       "      <td>tibau do sul</td>\n",
       "      <td>2.00</td>\n",
       "    </tr>\n",
       "    <tr>\n",
       "      <th>4107</th>\n",
       "      <td>morro agudo de goias</td>\n",
       "      <td>2.00</td>\n",
       "    </tr>\n",
       "    <tr>\n",
       "      <th>4108</th>\n",
       "      <td>sao mamede</td>\n",
       "      <td>2.00</td>\n",
       "    </tr>\n",
       "    <tr>\n",
       "      <th>4109</th>\n",
       "      <td>padre paraiso</td>\n",
       "      <td>2.00</td>\n",
       "    </tr>\n",
       "  </tbody>\n",
       "</table>\n",
       "<p>4110 rows × 2 columns</p>\n",
       "</div>"
      ],
      "text/plain": [
       "                      City Avg_Count_Orders\n",
       "0             treze tilias             2.55\n",
       "1                  indaial             2.23\n",
       "2      sao jose dos campos             2.28\n",
       "3                sao paulo             2.31\n",
       "4             porto alegre             2.35\n",
       "...                    ...              ...\n",
       "4105                buriti             6.00\n",
       "4106          tibau do sul             2.00\n",
       "4107  morro agudo de goias             2.00\n",
       "4108            sao mamede             2.00\n",
       "4109         padre paraiso             2.00\n",
       "\n",
       "[4110 rows x 2 columns]"
      ]
     },
     "execution_count": 11,
     "metadata": {},
     "output_type": "execute_result"
    }
   ],
   "source": [
    "Query1=\"\"\"\n",
    "with count_per_order as \n",
    "(select orders.order_id, orders.customer_id, count(order_items.order_id)as oc\n",
    "from orders join order_items\n",
    "on orders.order_id= order_items.order_id\n",
    "group by orders.order_id, orders.customer_id)\n",
    "\n",
    "select customers.customer_city,round(avg(count_per_order.oc),2)\n",
    "from customers join count_per_order\n",
    "on customers.customer_id= count_per_order.customer_id\n",
    "group by customers.customer_city\"\"\"\n",
    "\n",
    "cur.execute(Query1)\n",
    "data = cur.fetchall()\n",
    "# data\n",
    "df=pd.DataFrame(data, columns=[\"City\",\"Avg_Count_Orders\"])\n",
    "\n",
    "df"
   ]
  },
  {
   "cell_type": "markdown",
   "id": "3a7fd939-90ad-45bf-af55-2f76d0da6b2f",
   "metadata": {},
   "source": [
    "# 3. Calculate the percentage of total revenue contributed by each product category."
   ]
  },
  {
   "cell_type": "code",
   "execution_count": 12,
   "id": "1e294f42-51f8-4e24-ba74-8368effe45fe",
   "metadata": {},
   "outputs": [
    {
     "data": {
      "text/html": [
       "<div>\n",
       "<style scoped>\n",
       "    .dataframe tbody tr th:only-of-type {\n",
       "        vertical-align: middle;\n",
       "    }\n",
       "\n",
       "    .dataframe tbody tr th {\n",
       "        vertical-align: top;\n",
       "    }\n",
       "\n",
       "    .dataframe thead th {\n",
       "        text-align: right;\n",
       "    }\n",
       "</style>\n",
       "<table border=\"1\" class=\"dataframe\">\n",
       "  <thead>\n",
       "    <tr style=\"text-align: right;\">\n",
       "      <th></th>\n",
       "      <th>category</th>\n",
       "      <th>sales%</th>\n",
       "    </tr>\n",
       "  </thead>\n",
       "  <tbody>\n",
       "    <tr>\n",
       "      <th>0</th>\n",
       "      <td>treze tilias</td>\n",
       "      <td>2.55</td>\n",
       "    </tr>\n",
       "    <tr>\n",
       "      <th>1</th>\n",
       "      <td>indaial</td>\n",
       "      <td>2.23</td>\n",
       "    </tr>\n",
       "    <tr>\n",
       "      <th>2</th>\n",
       "      <td>sao jose dos campos</td>\n",
       "      <td>2.28</td>\n",
       "    </tr>\n",
       "    <tr>\n",
       "      <th>3</th>\n",
       "      <td>sao paulo</td>\n",
       "      <td>2.31</td>\n",
       "    </tr>\n",
       "    <tr>\n",
       "      <th>4</th>\n",
       "      <td>porto alegre</td>\n",
       "      <td>2.35</td>\n",
       "    </tr>\n",
       "    <tr>\n",
       "      <th>...</th>\n",
       "      <td>...</td>\n",
       "      <td>...</td>\n",
       "    </tr>\n",
       "    <tr>\n",
       "      <th>4105</th>\n",
       "      <td>buriti</td>\n",
       "      <td>6.00</td>\n",
       "    </tr>\n",
       "    <tr>\n",
       "      <th>4106</th>\n",
       "      <td>tibau do sul</td>\n",
       "      <td>2.00</td>\n",
       "    </tr>\n",
       "    <tr>\n",
       "      <th>4107</th>\n",
       "      <td>morro agudo de goias</td>\n",
       "      <td>2.00</td>\n",
       "    </tr>\n",
       "    <tr>\n",
       "      <th>4108</th>\n",
       "      <td>sao mamede</td>\n",
       "      <td>2.00</td>\n",
       "    </tr>\n",
       "    <tr>\n",
       "      <th>4109</th>\n",
       "      <td>padre paraiso</td>\n",
       "      <td>2.00</td>\n",
       "    </tr>\n",
       "  </tbody>\n",
       "</table>\n",
       "<p>4110 rows × 2 columns</p>\n",
       "</div>"
      ],
      "text/plain": [
       "                  category sales%\n",
       "0             treze tilias   2.55\n",
       "1                  indaial   2.23\n",
       "2      sao jose dos campos   2.28\n",
       "3                sao paulo   2.31\n",
       "4             porto alegre   2.35\n",
       "...                    ...    ...\n",
       "4105                buriti   6.00\n",
       "4106          tibau do sul   2.00\n",
       "4107  morro agudo de goias   2.00\n",
       "4108            sao mamede   2.00\n",
       "4109         padre paraiso   2.00\n",
       "\n",
       "[4110 rows x 2 columns]"
      ]
     },
     "execution_count": 12,
     "metadata": {},
     "output_type": "execute_result"
    }
   ],
   "source": [
    "Query2=\"\"\"select upper(products.product_category)as category, \n",
    "round((sum(payments.payment_value)/(select sum(payment_value)from payments))*100,2) sales \n",
    "from products join order_items\n",
    "on products.product_id = order_items.product_id\n",
    "join payments\n",
    "on payments.order_id= order_items.order_id\n",
    "group by product_category order by sales desc\"\"\"\n",
    "\n",
    "cur.execute(Query1)\n",
    "data = cur.fetchall()\n",
    "# data\n",
    "df=pd.DataFrame(data, columns=[\"category\",\"sales%\"])\n",
    "df"
   ]
  },
  {
   "cell_type": "markdown",
   "id": "0043643f-93ad-4422-90e9-ffc2f16e4096",
   "metadata": {},
   "source": [
    "# 4. Identify the correlation between product price and the number of times a product has been purchased."
   ]
  },
  {
   "cell_type": "code",
   "execution_count": 13,
   "id": "f3fe3b3c-838d-458a-9845-05b2fe072a45",
   "metadata": {},
   "outputs": [
    {
     "data": {
      "text/html": [
       "<div>\n",
       "<style scoped>\n",
       "    .dataframe tbody tr th:only-of-type {\n",
       "        vertical-align: middle;\n",
       "    }\n",
       "\n",
       "    .dataframe tbody tr th {\n",
       "        vertical-align: top;\n",
       "    }\n",
       "\n",
       "    .dataframe thead th {\n",
       "        text-align: right;\n",
       "    }\n",
       "</style>\n",
       "<table border=\"1\" class=\"dataframe\">\n",
       "  <thead>\n",
       "    <tr style=\"text-align: right;\">\n",
       "      <th></th>\n",
       "      <th>product_category</th>\n",
       "      <th>Order_Count</th>\n",
       "      <th>price</th>\n",
       "    </tr>\n",
       "  </thead>\n",
       "  <tbody>\n",
       "    <tr>\n",
       "      <th>0</th>\n",
       "      <td>HEALTH BEAUTY</td>\n",
       "      <td>19340</td>\n",
       "      <td>130.16</td>\n",
       "    </tr>\n",
       "    <tr>\n",
       "      <th>1</th>\n",
       "      <td>sport leisure</td>\n",
       "      <td>17282</td>\n",
       "      <td>114.34</td>\n",
       "    </tr>\n",
       "    <tr>\n",
       "      <th>2</th>\n",
       "      <td>Cool Stuff</td>\n",
       "      <td>7592</td>\n",
       "      <td>167.36</td>\n",
       "    </tr>\n",
       "    <tr>\n",
       "      <th>3</th>\n",
       "      <td>computer accessories</td>\n",
       "      <td>15654</td>\n",
       "      <td>116.51</td>\n",
       "    </tr>\n",
       "    <tr>\n",
       "      <th>4</th>\n",
       "      <td>Watches present</td>\n",
       "      <td>11982</td>\n",
       "      <td>201.14</td>\n",
       "    </tr>\n",
       "    <tr>\n",
       "      <th>...</th>\n",
       "      <td>...</td>\n",
       "      <td>...</td>\n",
       "      <td>...</td>\n",
       "    </tr>\n",
       "    <tr>\n",
       "      <th>69</th>\n",
       "      <td>flowers</td>\n",
       "      <td>66</td>\n",
       "      <td>33.64</td>\n",
       "    </tr>\n",
       "    <tr>\n",
       "      <th>70</th>\n",
       "      <td>Kitchen portable and food coach</td>\n",
       "      <td>30</td>\n",
       "      <td>264.57</td>\n",
       "    </tr>\n",
       "    <tr>\n",
       "      <th>71</th>\n",
       "      <td>CITTE AND UPHACK FURNITURE</td>\n",
       "      <td>76</td>\n",
       "      <td>114.95</td>\n",
       "    </tr>\n",
       "    <tr>\n",
       "      <th>72</th>\n",
       "      <td>House Comfort 2</td>\n",
       "      <td>60</td>\n",
       "      <td>25.34</td>\n",
       "    </tr>\n",
       "    <tr>\n",
       "      <th>73</th>\n",
       "      <td>cds music dvds</td>\n",
       "      <td>28</td>\n",
       "      <td>52.14</td>\n",
       "    </tr>\n",
       "  </tbody>\n",
       "</table>\n",
       "<p>74 rows × 3 columns</p>\n",
       "</div>"
      ],
      "text/plain": [
       "                   product_category  Order_Count   price\n",
       "0                     HEALTH BEAUTY        19340  130.16\n",
       "1                     sport leisure        17282  114.34\n",
       "2                        Cool Stuff         7592  167.36\n",
       "3              computer accessories        15654  116.51\n",
       "4                   Watches present        11982  201.14\n",
       "..                              ...          ...     ...\n",
       "69                          flowers           66   33.64\n",
       "70  Kitchen portable and food coach           30  264.57\n",
       "71       CITTE AND UPHACK FURNITURE           76  114.95\n",
       "72                  House Comfort 2           60   25.34\n",
       "73                   cds music dvds           28   52.14\n",
       "\n",
       "[74 rows x 3 columns]"
      ]
     },
     "execution_count": 13,
     "metadata": {},
     "output_type": "execute_result"
    }
   ],
   "source": [
    "Query4=\"\"\"select products.product_category,count(order_items.product_id),\n",
    "round(avg(order_items.price ),2)\n",
    "from products join order_items\n",
    "on products.product_id= order_items.product_id\n",
    "group by products.product_category\"\"\"\n",
    "\n",
    "cur.execute(Query4)\n",
    "data = cur.fetchall()\n",
    "# data\n",
    "\n",
    "df=pd.DataFrame(data,columns=[\"product_category\",\"Order_Count\",\"price\"])\n",
    "df\n"
   ]
  },
  {
   "cell_type": "code",
   "execution_count": 14,
   "id": "b3fca49d-cc14-49ff-96c0-efe99264d5a8",
   "metadata": {},
   "outputs": [
    {
     "name": "stdout",
     "output_type": "stream",
     "text": [
      "This is correlation between price and number of times a product has been purchased is -0.10631514167157562\n"
     ]
    }
   ],
   "source": [
    "arr1= df[\"Order_Count\"]\n",
    "arr2= df[\"price\"]\n",
    "a=np.corrcoef([arr1,arr2])\n",
    "print(\"This is correlation between price and number of times a product has been purchased is\",a[0][1])"
   ]
  },
  {
   "cell_type": "markdown",
   "id": "da1a4703-2c3d-4f9a-88c1-04db1ed044ba",
   "metadata": {},
   "source": [
    "# 5. Calculate the total revenue generated by each seller, and rank them by revenue."
   ]
  },
  {
   "cell_type": "code",
   "execution_count": 3,
   "id": "f6795015-f89a-4710-8362-ac337007f7d5",
   "metadata": {},
   "outputs": [
    {
     "data": {
      "text/html": [
       "<div>\n",
       "<style scoped>\n",
       "    .dataframe tbody tr th:only-of-type {\n",
       "        vertical-align: middle;\n",
       "    }\n",
       "\n",
       "    .dataframe tbody tr th {\n",
       "        vertical-align: top;\n",
       "    }\n",
       "\n",
       "    .dataframe thead th {\n",
       "        text-align: right;\n",
       "    }\n",
       "</style>\n",
       "<table border=\"1\" class=\"dataframe\">\n",
       "  <thead>\n",
       "    <tr style=\"text-align: right;\">\n",
       "      <th></th>\n",
       "      <th>seller_id</th>\n",
       "      <th>Revenue</th>\n",
       "      <th>Rank</th>\n",
       "    </tr>\n",
       "  </thead>\n",
       "  <tbody>\n",
       "    <tr>\n",
       "      <th>0</th>\n",
       "      <td>7c67e1448b00f6e969d365cea6b010ab</td>\n",
       "      <td>507166.907302</td>\n",
       "      <td>1</td>\n",
       "    </tr>\n",
       "    <tr>\n",
       "      <th>1</th>\n",
       "      <td>1025f0e2d44d7041d6cf58b6550e0bfa</td>\n",
       "      <td>308222.039840</td>\n",
       "      <td>2</td>\n",
       "    </tr>\n",
       "    <tr>\n",
       "      <th>2</th>\n",
       "      <td>4a3ca9315b744ce9f8e9374361493884</td>\n",
       "      <td>301245.269765</td>\n",
       "      <td>3</td>\n",
       "    </tr>\n",
       "    <tr>\n",
       "      <th>3</th>\n",
       "      <td>1f50f920176fa81dab994f9023523100</td>\n",
       "      <td>290253.420128</td>\n",
       "      <td>4</td>\n",
       "    </tr>\n",
       "    <tr>\n",
       "      <th>4</th>\n",
       "      <td>53243585a1d6dc2643021fd1853d8905</td>\n",
       "      <td>284903.080498</td>\n",
       "      <td>5</td>\n",
       "    </tr>\n",
       "  </tbody>\n",
       "</table>\n",
       "</div>"
      ],
      "text/plain": [
       "                          seller_id        Revenue  Rank\n",
       "0  7c67e1448b00f6e969d365cea6b010ab  507166.907302     1\n",
       "1  1025f0e2d44d7041d6cf58b6550e0bfa  308222.039840     2\n",
       "2  4a3ca9315b744ce9f8e9374361493884  301245.269765     3\n",
       "3  1f50f920176fa81dab994f9023523100  290253.420128     4\n",
       "4  53243585a1d6dc2643021fd1853d8905  284903.080498     5"
      ]
     },
     "execution_count": 3,
     "metadata": {},
     "output_type": "execute_result"
    }
   ],
   "source": [
    "# utilize window function\n",
    "Query5=\"\"\"select * ,dense_rank() over(order by revenue desc) as Rank1 from\n",
    "(select order_items.seller_id, sum(payments.payment_value)as Revenue\n",
    "from order_items join payments\n",
    "on order_items.order_id =payments.order_id\n",
    "group by order_items.seller_id) as a\"\"\"\n",
    "\n",
    "cur.execute(Query5)\n",
    "data = cur.fetchall()\n",
    "# data\n",
    "\n",
    "df=pd.DataFrame(data,columns=[\"seller_id\",\"Revenue\",\"Rank\"])\n",
    "df.head(5)"
   ]
  },
  {
   "cell_type": "code",
   "execution_count": 5,
   "id": "cc192005-f9ed-4a3a-8bf0-26d475dd8b9a",
   "metadata": {},
   "outputs": [
    {
     "data": {
      "image/png": "[encoded data removed]",
      "text/plain": [
       "<Figure size 640x480 with 1 Axes>"
      ]
     },
     "metadata": {},
     "output_type": "display_data"
    }
   ],
   "source": [
    "df=df.head()\n",
    "sns.barplot(x=\"seller_id\",y=\"Revenue\",data=df)\n",
    "plt.xticks(rotation=90)\n",
    "plt.show()"
   ]
  },
  {
   "cell_type": "markdown",
   "id": "8d1cec96-4e33-4daa-b014-c4d74c54aede",
   "metadata": {},
   "source": [
    "# Advanced Queries"
   ]
  },
  {
   "cell_type": "markdown",
   "id": "415fe9f9-ddef-4d67-a876-fb60721da470",
   "metadata": {},
   "source": [
    "# 1. Calculate the moving average of order values for each customer over their order history."
   ]
  },
  {
   "cell_type": "code",
   "execution_count": 13,
   "id": "29616401-171f-4413-95dc-930677ff120d",
   "metadata": {},
   "outputs": [
    {
     "data": {
      "text/html": [
       "<div>\n",
       "<style scoped>\n",
       "    .dataframe tbody tr th:only-of-type {\n",
       "        vertical-align: middle;\n",
       "    }\n",
       "\n",
       "    .dataframe tbody tr th {\n",
       "        vertical-align: top;\n",
       "    }\n",
       "\n",
       "    .dataframe thead th {\n",
       "        text-align: right;\n",
       "    }\n",
       "</style>\n",
       "<table border=\"1\" class=\"dataframe\">\n",
       "  <thead>\n",
       "    <tr style=\"text-align: right;\">\n",
       "      <th></th>\n",
       "      <th>customer_id</th>\n",
       "      <th>order_purchase_timestamp</th>\n",
       "      <th>payment</th>\n",
       "      <th>Mov_avg</th>\n",
       "    </tr>\n",
       "  </thead>\n",
       "  <tbody>\n",
       "    <tr>\n",
       "      <th>0</th>\n",
       "      <td>00012a2ce6f8dcda20d059ce98491703</td>\n",
       "      <td>2017-11-14 16:08:26</td>\n",
       "      <td>114.74</td>\n",
       "      <td>114.739998</td>\n",
       "    </tr>\n",
       "    <tr>\n",
       "      <th>1</th>\n",
       "      <td>00012a2ce6f8dcda20d059ce98491703</td>\n",
       "      <td>2017-11-14 16:08:26</td>\n",
       "      <td>114.74</td>\n",
       "      <td>114.739998</td>\n",
       "    </tr>\n",
       "    <tr>\n",
       "      <th>2</th>\n",
       "      <td>000161a058600d5901f007fab4c27140</td>\n",
       "      <td>2017-07-16 09:40:32</td>\n",
       "      <td>67.41</td>\n",
       "      <td>67.410004</td>\n",
       "    </tr>\n",
       "    <tr>\n",
       "      <th>3</th>\n",
       "      <td>000161a058600d5901f007fab4c27140</td>\n",
       "      <td>2017-07-16 09:40:32</td>\n",
       "      <td>67.41</td>\n",
       "      <td>67.410004</td>\n",
       "    </tr>\n",
       "    <tr>\n",
       "      <th>4</th>\n",
       "      <td>0001fd6190edaaf884bcaf3d49edf079</td>\n",
       "      <td>2017-02-28 11:06:43</td>\n",
       "      <td>195.42</td>\n",
       "      <td>195.419998</td>\n",
       "    </tr>\n",
       "  </tbody>\n",
       "</table>\n",
       "</div>"
      ],
      "text/plain": [
       "                        customer_id order_purchase_timestamp  payment  \\\n",
       "0  00012a2ce6f8dcda20d059ce98491703      2017-11-14 16:08:26   114.74   \n",
       "1  00012a2ce6f8dcda20d059ce98491703      2017-11-14 16:08:26   114.74   \n",
       "2  000161a058600d5901f007fab4c27140      2017-07-16 09:40:32    67.41   \n",
       "3  000161a058600d5901f007fab4c27140      2017-07-16 09:40:32    67.41   \n",
       "4  0001fd6190edaaf884bcaf3d49edf079      2017-02-28 11:06:43   195.42   \n",
       "\n",
       "      Mov_avg  \n",
       "0  114.739998  \n",
       "1  114.739998  \n",
       "2   67.410004  \n",
       "3   67.410004  \n",
       "4  195.419998  "
      ]
     },
     "execution_count": 13,
     "metadata": {},
     "output_type": "execute_result"
    }
   ],
   "source": [
    "Query_1=\"\"\"select customer_id,order_purchase_timestamp, payment,\n",
    "avg(payment) over(partition by customer_id order by order_purchase_timestamp\n",
    "rows between 2 preceding and current row)as Mov_avg\n",
    "from\n",
    "(select orders.customer_id, orders.order_purchase_timestamp,\n",
    "payments.payment_value as payment\n",
    "from payments join orders on payments.order_id = orders.order_id)as a\"\"\"\n",
    "\n",
    "cur.execute(Query_1)\n",
    "data = cur.fetchall()\n",
    "# data\n",
    "\n",
    "df=pd.DataFrame(data,columns=[\"customer_id\",\"order_purchase_timestamp\",\"payment\",\"Mov_avg\"])\n",
    "df.head(5)"
   ]
  },
  {
   "cell_type": "markdown",
   "id": "5011844f-bd6f-46af-a7e2-b3de1a85e382",
   "metadata": {},
   "source": [
    "# 2. Calculate the cumulative sales per month for each year."
   ]
  },
  {
   "cell_type": "code",
   "execution_count": 16,
   "id": "484fbcb9-967e-42aa-9bbf-6cc2665d6108",
   "metadata": {},
   "outputs": [
    {
     "data": {
      "text/html": [
       "<div>\n",
       "<style scoped>\n",
       "    .dataframe tbody tr th:only-of-type {\n",
       "        vertical-align: middle;\n",
       "    }\n",
       "\n",
       "    .dataframe tbody tr th {\n",
       "        vertical-align: top;\n",
       "    }\n",
       "\n",
       "    .dataframe thead th {\n",
       "        text-align: right;\n",
       "    }\n",
       "</style>\n",
       "<table border=\"1\" class=\"dataframe\">\n",
       "  <thead>\n",
       "    <tr style=\"text-align: right;\">\n",
       "      <th></th>\n",
       "      <th>Years</th>\n",
       "      <th>Months</th>\n",
       "      <th>payment</th>\n",
       "      <th>cumulative_sales</th>\n",
       "    </tr>\n",
       "  </thead>\n",
       "  <tbody>\n",
       "    <tr>\n",
       "      <th>0</th>\n",
       "      <td>2016</td>\n",
       "      <td>9</td>\n",
       "      <td>504.48</td>\n",
       "      <td>504.48</td>\n",
       "    </tr>\n",
       "    <tr>\n",
       "      <th>1</th>\n",
       "      <td>2016</td>\n",
       "      <td>10</td>\n",
       "      <td>118180.96</td>\n",
       "      <td>118685.44</td>\n",
       "    </tr>\n",
       "    <tr>\n",
       "      <th>2</th>\n",
       "      <td>2016</td>\n",
       "      <td>12</td>\n",
       "      <td>39.24</td>\n",
       "      <td>118724.68</td>\n",
       "    </tr>\n",
       "    <tr>\n",
       "      <th>3</th>\n",
       "      <td>2017</td>\n",
       "      <td>1</td>\n",
       "      <td>276976.08</td>\n",
       "      <td>395700.76</td>\n",
       "    </tr>\n",
       "    <tr>\n",
       "      <th>4</th>\n",
       "      <td>2017</td>\n",
       "      <td>2</td>\n",
       "      <td>583816.02</td>\n",
       "      <td>979516.78</td>\n",
       "    </tr>\n",
       "  </tbody>\n",
       "</table>\n",
       "</div>"
      ],
      "text/plain": [
       "   Years  Months    payment  cumulative_sales\n",
       "0   2016       9     504.48            504.48\n",
       "1   2016      10  118180.96         118685.44\n",
       "2   2016      12      39.24         118724.68\n",
       "3   2017       1  276976.08         395700.76\n",
       "4   2017       2  583816.02         979516.78"
      ]
     },
     "execution_count": 16,
     "metadata": {},
     "output_type": "execute_result"
    }
   ],
   "source": [
    "Query_2=\"\"\"select years , months, payment ,sum(payment)\n",
    " over(order by years, months) cumulative_sales from\n",
    "(select year(orders.order_purchase_timestamp)as years,\n",
    "month(orders.order_purchase_timestamp)as months,\n",
    "round(sum(payments.payment_value),2)as payment from orders join payments\n",
    "on orders.order_id= payments.order_id \n",
    "group by years, months order by years asc ,months asc)as a;\"\"\"\n",
    "\n",
    "cur.execute(Query_2)\n",
    "data = cur.fetchall()\n",
    "# data\n",
    "\n",
    "df=pd.DataFrame(data,columns=[\"Years\",\"Months\",\"payment\",\"cumulative_sales\"])\n",
    "df.head(5)"
   ]
  },
  {
   "cell_type": "markdown",
   "id": "06d054d8-b7de-4faf-abe3-b175ad2f7a4b",
   "metadata": {},
   "source": [
    "# 3. Calculate the year-over-year growth rate of total sales."
   ]
  },
  {
   "cell_type": "code",
   "execution_count": 21,
   "id": "851d5697-a555-4507-97cb-a43f06bff9d3",
   "metadata": {},
   "outputs": [
    {
     "data": {
      "text/html": [
       "<div>\n",
       "<style scoped>\n",
       "    .dataframe tbody tr th:only-of-type {\n",
       "        vertical-align: middle;\n",
       "    }\n",
       "\n",
       "    .dataframe tbody tr th {\n",
       "        vertical-align: top;\n",
       "    }\n",
       "\n",
       "    .dataframe thead th {\n",
       "        text-align: right;\n",
       "    }\n",
       "</style>\n",
       "<table border=\"1\" class=\"dataframe\">\n",
       "  <thead>\n",
       "    <tr style=\"text-align: right;\">\n",
       "      <th></th>\n",
       "      <th>Years</th>\n",
       "      <th>Year_over_year_growth</th>\n",
       "    </tr>\n",
       "  </thead>\n",
       "  <tbody>\n",
       "    <tr>\n",
       "      <th>0</th>\n",
       "      <td>2016</td>\n",
       "      <td>NaN</td>\n",
       "    </tr>\n",
       "    <tr>\n",
       "      <th>1</th>\n",
       "      <td>2017</td>\n",
       "      <td>12112.703761</td>\n",
       "    </tr>\n",
       "    <tr>\n",
       "      <th>2</th>\n",
       "      <td>2018</td>\n",
       "      <td>20.000924</td>\n",
       "    </tr>\n",
       "  </tbody>\n",
       "</table>\n",
       "</div>"
      ],
      "text/plain": [
       "   Years  Year_over_year_growth\n",
       "0   2016                    NaN\n",
       "1   2017           12112.703761\n",
       "2   2018              20.000924"
      ]
     },
     "execution_count": 21,
     "metadata": {},
     "output_type": "execute_result"
    }
   ],
   "source": [
    "Query_3=\"\"\" with a as (select year(orders.order_purchase_timestamp)as years,\n",
    "round(sum(payments.payment_value),2)as payment from orders join payments\n",
    "on orders.order_id= payments.order_id \n",
    "group by years order by years asc)\n",
    "select years, ((Payment-lag(payment,1) over(order by years))/\n",
    "lag(payment,1) over(order by years))*100\n",
    "Year_over_year_growth from a;\"\"\"\n",
    "\n",
    "cur.execute(Query_3)\n",
    "data = cur.fetchall()\n",
    "# data\n",
    "df=pd.DataFrame(data,columns=[\"Years\",\"Year_over_year_growth\"])\n",
    "df.head(5)"
   ]
  },
  {
   "cell_type": "markdown",
   "id": "5da3e9fb-3049-40c0-8404-e41b7532b817",
   "metadata": {},
   "source": [
    "# 4. Calculate the retention rate of customers, defined as the percentage of customers who make another purchase within 6 months of their first purchase."
   ]
  },
  {
   "cell_type": "code",
   "execution_count": 23,
   "id": "7d2c2787-5182-49cb-b853-dd3b44f2c587",
   "metadata": {},
   "outputs": [
    {
     "data": {
      "text/plain": [
       "[(None,)]"
      ]
     },
     "execution_count": 23,
     "metadata": {},
     "output_type": "execute_result"
    }
   ],
   "source": [
    "Query_4= \"\"\"with a as (select customers.customer_id,\n",
    "min(orders.order_purchase_timestamp)first_order\n",
    "from customers join orders\n",
    "on customers.customer_id = orders.customer_id\n",
    "group by customers.customer_id),\n",
    "\n",
    "b as(select a.customer_id, count(distinct orders.order_purchase_timestamp)\n",
    "from a join orders\n",
    "on orders.customer_id= a.customer_id\n",
    "and orders.order_purchase_timestamp > first_order\n",
    "and orders.order_purchase_timestamp <\n",
    "date_add(first_order,interval 6 month)\n",
    "group by a .customer_id)\n",
    "\n",
    "select 100 * (count(distinct a.customer_id)/ count(distinct b.customer_id))\n",
    "from a left join b\n",
    "on a.customer_id= b.customer_id;\"\"\"\n",
    "\n",
    "cur.execute(Query_4)\n",
    "data = cur.fetchall()\n",
    "data\n"
   ]
  },
  {
   "cell_type": "markdown",
   "id": "367689ef-ea43-47a2-a8a3-b9f490f3d8c1",
   "metadata": {},
   "source": [
    "# 5. Identify the top 3 customers who spent the most money in each year."
   ]
  },
  {
   "cell_type": "code",
   "execution_count": 27,
   "id": "a42cba01-9097-40d4-829a-eeaa9d11c9e0",
   "metadata": {},
   "outputs": [
    {
     "data": {
      "text/html": [
       "<div>\n",
       "<style scoped>\n",
       "    .dataframe tbody tr th:only-of-type {\n",
       "        vertical-align: middle;\n",
       "    }\n",
       "\n",
       "    .dataframe tbody tr th {\n",
       "        vertical-align: top;\n",
       "    }\n",
       "\n",
       "    .dataframe thead th {\n",
       "        text-align: right;\n",
       "    }\n",
       "</style>\n",
       "<table border=\"1\" class=\"dataframe\">\n",
       "  <thead>\n",
       "    <tr style=\"text-align: right;\">\n",
       "      <th></th>\n",
       "      <th>Years</th>\n",
       "      <th>customer_id</th>\n",
       "      <th>Payment</th>\n",
       "      <th>Rank</th>\n",
       "    </tr>\n",
       "  </thead>\n",
       "  <tbody>\n",
       "    <tr>\n",
       "      <th>0</th>\n",
       "      <td>2016</td>\n",
       "      <td>a9dc96b027d1252bbac0a9b72d837fc6</td>\n",
       "      <td>2847.100098</td>\n",
       "      <td>1</td>\n",
       "    </tr>\n",
       "    <tr>\n",
       "      <th>1</th>\n",
       "      <td>2016</td>\n",
       "      <td>1d34ed25963d5aae4cf3d7f3a4cda173</td>\n",
       "      <td>2801.479980</td>\n",
       "      <td>2</td>\n",
       "    </tr>\n",
       "    <tr>\n",
       "      <th>2</th>\n",
       "      <td>2016</td>\n",
       "      <td>4a06381959b6670756de02e07b83815f</td>\n",
       "      <td>2455.560059</td>\n",
       "      <td>3</td>\n",
       "    </tr>\n",
       "    <tr>\n",
       "      <th>3</th>\n",
       "      <td>2017</td>\n",
       "      <td>1617b1357756262bfa56ab541c47bc16</td>\n",
       "      <td>27328.160156</td>\n",
       "      <td>1</td>\n",
       "    </tr>\n",
       "    <tr>\n",
       "      <th>4</th>\n",
       "      <td>2017</td>\n",
       "      <td>c6e2731c5b391845f6800c97401a43a9</td>\n",
       "      <td>13858.620117</td>\n",
       "      <td>2</td>\n",
       "    </tr>\n",
       "    <tr>\n",
       "      <th>5</th>\n",
       "      <td>2017</td>\n",
       "      <td>3fd6777bbce08a352fddd04e4a7cc8f6</td>\n",
       "      <td>13453.320312</td>\n",
       "      <td>3</td>\n",
       "    </tr>\n",
       "    <tr>\n",
       "      <th>6</th>\n",
       "      <td>2018</td>\n",
       "      <td>ec5b2ba62e574342386871631fafd3fc</td>\n",
       "      <td>14549.759766</td>\n",
       "      <td>1</td>\n",
       "    </tr>\n",
       "    <tr>\n",
       "      <th>7</th>\n",
       "      <td>2018</td>\n",
       "      <td>f48d464a0baaea338cb25f816991ab1f</td>\n",
       "      <td>13844.419922</td>\n",
       "      <td>2</td>\n",
       "    </tr>\n",
       "    <tr>\n",
       "      <th>8</th>\n",
       "      <td>2018</td>\n",
       "      <td>e0a2412720e9ea4f26c1ac985f6a7358</td>\n",
       "      <td>9618.879883</td>\n",
       "      <td>3</td>\n",
       "    </tr>\n",
       "  </tbody>\n",
       "</table>\n",
       "</div>"
      ],
      "text/plain": [
       "   Years                       customer_id       Payment  Rank\n",
       "0   2016  a9dc96b027d1252bbac0a9b72d837fc6   2847.100098     1\n",
       "1   2016  1d34ed25963d5aae4cf3d7f3a4cda173   2801.479980     2\n",
       "2   2016  4a06381959b6670756de02e07b83815f   2455.560059     3\n",
       "3   2017  1617b1357756262bfa56ab541c47bc16  27328.160156     1\n",
       "4   2017  c6e2731c5b391845f6800c97401a43a9  13858.620117     2\n",
       "5   2017  3fd6777bbce08a352fddd04e4a7cc8f6  13453.320312     3\n",
       "6   2018  ec5b2ba62e574342386871631fafd3fc  14549.759766     1\n",
       "7   2018  f48d464a0baaea338cb25f816991ab1f  13844.419922     2\n",
       "8   2018  e0a2412720e9ea4f26c1ac985f6a7358   9618.879883     3"
      ]
     },
     "execution_count": 27,
     "metadata": {},
     "output_type": "execute_result"
    }
   ],
   "source": [
    "Query_5=\"\"\"select Purchase_year,customer_id, payment,d_rank\n",
    "from\n",
    "(select year(orders.order_purchase_timestamp) as Purchase_year,orders.customer_id,\n",
    "sum(payments.payment_value) payment,\n",
    "dense_rank() over (partition by year(orders.order_purchase_timestamp) \n",
    "order by  sum(payments.payment_value)desc) d_rank\n",
    "from orders join  payments\n",
    "on payments.order_id = orders.order_id\n",
    "group by year(orders.order_purchase_timestamp),\n",
    "orders.customer_id order by Purchase_year asc ) as a\n",
    "where d_rank <=3;\"\"\"\n",
    "\n",
    "cur.execute(Query_5)\n",
    "data = cur.fetchall()\n",
    "data\n",
    "\n",
    "df=pd.DataFrame(data,columns=[\"Years\",\"customer_id\",\"Payment\" , \"Rank\"])\n",
    "df\n"
   ]
  },
  {
   "cell_type": "code",
   "execution_count": 31,
   "id": "744b860f-d427-460d-8ddf-b8b2297fb7e5",
   "metadata": {},
   "outputs": [
    {
     "data": {
      "image/png": "[encoded data removed]",
      "text/plain": [
       "<Figure size 640x480 with 1 Axes>"
      ]
     },
     "metadata": {},
     "output_type": "display_data"
    }
   ],
   "source": [
    "sns.barplot(x=\"customer_id\", y=\"Payment\", data=df,hue=\"Years\")\n",
    "plt.xticks(rotation=90)\n",
    "plt.show()"
   ]
  },
  {
   "cell_type": "code",
   "execution_count": null,
   "id": "25bd5330-c6c1-4430-9eae-84f28c99c052",
   "metadata": {},
   "outputs": [],
   "source": []
  }
 ],
 "metadata": {
  "kernelspec": {
   "display_name": "Python 3 (ipykernel)",
   "language": "python",
   "name": "python3"
  },
  "language_info": {
   "codemirror_mode": {
    "name": "ipython",
    "version": 3
   },
   "file_extension": ".py",
   "mimetype": "text/x-python",
   "name": "python",
   "nbconvert_exporter": "python",
   "pygments_lexer": "ipython3",
   "version": "3.12.6"
  }
 },
 "nbformat": 4,
 "nbformat_minor": 5
}
